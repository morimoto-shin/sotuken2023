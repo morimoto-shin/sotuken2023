{
 "cells": [
  {
   "cell_type": "code",
   "execution_count": 2,
   "metadata": {},
   "outputs": [],
   "source": [
    "import wikipediaapi"
   ]
  },
  {
   "cell_type": "code",
   "execution_count": 3,
   "metadata": {},
   "outputs": [],
   "source": [
    "wiki_test = wikipediaapi.Wikipedia(\"en\")"
   ]
  },
  {
   "cell_type": "code",
   "execution_count": 6,
   "metadata": {},
   "outputs": [
    {
     "data": {
      "text/plain": [
       "\"Postman's Park is a public garden in central London, a short distance north of St Paul's Cathedral. Bordered by Little Britain, Aldersgate Street, St. Martin's Le Grand, King Edward Street, and the site of the former headquarters of the General Post Office (GPO), it is one of the largest open spaces in the City of London.Postman's Park opened in 1880 on the site of the former churchyard and burial ground of St Botolph's Aldersgate church and expanded over the next 20 years to incorporate the adjacent burial grounds of Christ Church Greyfriars and St Leonard, Foster Lane, together with the site of housing demolished during the widening of Little Britain in 1880; the ownership of the last location became the subject of a lengthy dispute between the church authorities, the General Post Office, the Treasury, and the City Parochial Foundation. A shortage of space for burials in London meant that corpses were often laid on the ground and covered over with soil, thus elevating the park above the streets which surround it.\\nIn 1900, the park became the location for George Frederic Watts's Memorial to Heroic Self-Sacrifice, a memorial to ordinary people who died while saving the lives of others and who might otherwise be forgotten, in the form of a loggia and long wall housing ceramic memorial tablets. Only four of the planned 120 memorial tablets were in place at the time of its opening, with a further nine tablets added during Watts's lifetime. Watts's wife, Mary Watts, took over the management of the project after Watts's death in 1904 and oversaw the installation of a further 35 memorial tablets in the following four years along with a small monument to Watts. Later she became disillusioned with the new tile manufacturer and, with her time and money increasingly occupied by the running of the Watts Gallery, she lost interest in the project, and only five further tablets were added during her lifetime.\\nIn 1972, key elements of the park, including the Memorial to Heroic Self-Sacrifice, were Grade II listed to preserve their character, upgraded to Grade II* in 2018. Following the 2004 film Closer, based on the 1997 play Closer by Patrick Marber, Postman's Park experienced a resurgence of interest; key scenes of both were set in the park itself. In June 2009, a city worker, Jane Shaka (née Michele), via the Diocese of London added a new tablet to the Memorial, the first new addition for 78 years. In November 2013 a free mobile app, The Everyday Heroes of Postman’s Park, was launched which documents the lives and deaths of those commemorated on the memorial.\""
      ]
     },
     "execution_count": 6,
     "metadata": {},
     "output_type": "execute_result"
    }
   ],
   "source": [
    "page_text = wiki_test.page(\"Postmans Park\")\n",
    "page_text.summary"
   ]
  },
  {
   "cell_type": "code",
   "execution_count": 5,
   "metadata": {},
   "outputs": [
    {
     "data": {
      "text/plain": [
       "['Language and linguistics.txt',\n",
       " 'Engineering and technology biographies.txt',\n",
       " 'Mathematics.txt',\n",
       " 'Royalty and nobility.txt',\n",
       " 'Music.txt',\n",
       " 'Biology biographies.txt',\n",
       " 'Biographies (art, architecture, and archaeology).txt',\n",
       " 'Food and drink.txt',\n",
       " 'Culture and society biographies.txt',\n",
       " 'Video game fictional characters.txt',\n",
       " 'Royalty and nobility biographies.txt',\n",
       " 'Poetry.txt',\n",
       " 'Health and medicine.txt',\n",
       " 'Geography and places.txt',\n",
       " 'Religion, mysticism and mythology.txt',\n",
       " 'Meteorology and climate.txt',\n",
       " 'Warfare.txt',\n",
       " 'Medical biographies.txt',\n",
       " 'Fungi.txt',\n",
       " 'Sport and recreation.txt',\n",
       " 'Numismatics.txt',\n",
       " 'Reptiles and amphibians.txt',\n",
       " 'Media biographies.txt',\n",
       " 'Wars, battles and events.txt',\n",
       " 'Theatre.txt',\n",
       " 'Magazines and comics.txt',\n",
       " 'Novels, including graphic novels.txt',\n",
       " 'Television shows.txt',\n",
       " 'Sport and recreation biographies.txt',\n",
       " 'Chemistry and mineralogy biographies.txt',\n",
       " 'Religion, mysticism and mythology biographies.txt',\n",
       " 'Heraldry, honors, and vexillology.txt',\n",
       " 'Culture and society.txt',\n",
       " 'Animals.txt',\n",
       " 'Invertebrates.txt',\n",
       " 'Law.txt',\n",
       " 'Education.txt',\n",
       " 'Architecture and archaeology.txt',\n",
       " 'Films.txt',\n",
       " 'Transport biographies.txt',\n",
       " 'Songs.txt',\n",
       " 'Media.txt',\n",
       " 'Birds.txt',\n",
       " 'Art.txt',\n",
       " 'Computing.txt',\n",
       " 'Compounds.txt',\n",
       " 'Fictional characters (literature and theatre).txt',\n",
       " 'Albums.txt',\n",
       " 'Geology and geophysics.txt',\n",
       " 'Politics and government.txt',\n",
       " 'Business, economics, and finance.txt',\n",
       " 'Business, economics, and finance biographies.txt',\n",
       " 'Law biographies.txt',\n",
       " 'Biology.txt',\n",
       " 'Fish.txt',\n",
       " 'Warfare biographies.txt',\n",
       " 'Elements.txt',\n",
       " 'Literature and theatre.txt',\n",
       " 'History.txt',\n",
       " 'History biographies.txt',\n",
       " 'Chemistry and mineralogy.txt',\n",
       " 'Video games.txt',\n",
       " 'Short stories.txt',\n",
       " 'Plants.txt',\n",
       " 'Transport.txt',\n",
       " 'Biographies of mathematicians.txt',\n",
       " 'Philosophy and psychology biographies.txt',\n",
       " 'Physics and astronomy.txt',\n",
       " 'Media fictional characters.txt',\n",
       " 'Art, architecture, and archaeology.txt',\n",
       " 'Philosophy and psychology.txt',\n",
       " 'Storms.txt',\n",
       " 'Autobiographies and memoirs.txt',\n",
       " 'Biographies (literature and theatre).txt',\n",
       " 'Politics and government biographies.txt',\n",
       " 'Episodes of television.txt',\n",
       " 'Engineering and technology.txt',\n",
       " 'Music biographies.txt',\n",
       " 'Medical conditions and management.txt',\n",
       " 'Companies.txt',\n",
       " 'Physics and astronomy biographies.txt',\n",
       " 'Non-avian dinosaurs.txt']"
      ]
     },
     "execution_count": 5,
     "metadata": {},
     "output_type": "execute_result"
    }
   ],
   "source": [
    "import os\n",
    "listdir = os.listdir()\n",
    "listdir"
   ]
  },
  {
   "cell_type": "code",
   "execution_count": 6,
   "metadata": {},
   "outputs": [],
   "source": [
    "from psycopg2.extensions import ISOLATION_LEVEL_AUTOCOMMIT\n"
   ]
  },
  {
   "cell_type": "code",
   "execution_count": null,
   "metadata": {},
   "outputs": [],
   "source": []
  }
 ],
 "metadata": {
  "kernelspec": {
   "display_name": "Python 3.10.0 ('.venv': venv)",
   "language": "python",
   "name": "python3"
  },
  "language_info": {
   "codemirror_mode": {
    "name": "ipython",
    "version": 3
   },
   "file_extension": ".py",
   "mimetype": "text/x-python",
   "name": "python",
   "nbconvert_exporter": "python",
   "pygments_lexer": "ipython3",
   "version": "3.8.13"
  },
  "orig_nbformat": 4,
  "vscode": {
   "interpreter": {
    "hash": "08aea60159bf520025353fa73b67835db46a7850aa7ed99a4940d38bc889f64d"
   }
  }
 },
 "nbformat": 4,
 "nbformat_minor": 2
}
